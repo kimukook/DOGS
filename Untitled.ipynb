{
 "cells": [
  {
   "cell_type": "code",
   "execution_count": 1,
   "metadata": {
    "collapsed": false
   },
   "outputs": [],
   "source": [
    "import numpy as np\n",
    "from scipy.optimize import minimize, rosen, rosen_der\n",
    "#from __future__ import print_function    # (at top of module)\n",
    "\n",
    "\n",
    "class Inter:\n",
    "    #    'Common base class for all variable'\n",
    "    \n",
    "    def __init__(self,inter_method, y0=0.):\n",
    "        self.method = inter_method\n",
    "        self.w = 0\n",
    "        self.v = 0\n",
    "        self.xi = 0\n",
    "        self.yi=0\n",
    "        self.lamda = 0\n",
    "        self.y0 = y0\n",
    "        self.Dw = 0\n",
    "        self.Dv = 0\n",
    "    \n",
    "    \n",
    "    def parameterization(self,xi, yi):\n",
    "        n = xi.shape[0]\n",
    "        m = xi.shape[1]\n",
    "        if self.method =='NPS': # 1\n",
    "            A= np.zeros(shape=(m,m))\n",
    "            for ii in range(0,m,1): # for ii =0 to m-1 with step 1; range(1,N,1)\n",
    "                for jj in range(0,m,1):\n",
    "                    A[ii,jj] = (np.dot(xi[:,ii] - xi[:,jj],xi[:,ii] - xi[:,jj]))**(3.0/2.0)\n",
    "            \n",
    "            V = np.concatenate((np.ones((1,m)), xi), axis=0)\n",
    "            A1 = np.concatenate((A, np.transpose(V)),axis=1)\n",
    "            A2 = np.concatenate((V, np.zeros(shape=(n+1,n+1) )), axis=1)\n",
    "            yi = yi[np.newaxis,:]\n",
    "            \n",
    "            print(yi.shape)\n",
    "            b = np.concatenate([np.transpose(yi), np.zeros(shape=(n+1,1))])\n",
    "            #      b = np.concatenate((np.transpose(yi), np.zeros(shape=(n+1,1) )), axis=0)\n",
    "            A = np.concatenate((A1,A2), axis=0)\n",
    "            wv = np.linalg.solve(A,b)\n",
    "            self.w = wv[:m]\n",
    "            self.v = wv[m:]\n",
    "            self.xi = xi\n",
    "        #      print(V)\n",
    "        #     7\n",
    "        if self.method == \"MAPS\" or self.method == \"MAPS2\":\n",
    "            a = np.ones(xi.shape[0],1)\n",
    "            lamda = 1;\n",
    "            for i in range (0,20):\n",
    "                [inter_par,a] = Scale_interpar()\n",
    "                lamda = lamda/2.0\n",
    "                for jj in range(yi.shape[0]):\n",
    "                    [inter_par,a]  = Scale_interpar(); #method2 %%% DO I NEED TO INCLUDE SELF INPUT????\n",
    "                     \n",
    "\n",
    "\n",
    "\n",
    "\n",
    "    \n",
    "    # inter_par{1}=inter_method;\n",
    "    # lambda = lambda/2;\n",
    "    #for jj=1:numel(yi)\n",
    "    # ygps(jj)= interpolate_val(xi(:,jj),inter_par); % HERE --->\n",
    "    # % equation 19 in MAPS\n",
    "    # deltaPx  = abs(ygps(jj)-yi(jj));\n",
    "    # DeltaFun = abs(yi(jj)-y0);\n",
    "    # % keyboard\n",
    "    # if deltaPx/DeltaFun > 0.1\n",
    "    # break;\n",
    "    # elseif jj==numel(yi)\n",
    "    #     return;\n",
    "    # end\n",
    "    # end\n",
    "    # if inter_method==8\n",
    "    # %      keyboard\n",
    "    # epsFun = yi-y0;\n",
    "    # inter_par{8}=epsFun;\n",
    "    # end\n",
    "    \n",
    "    \n",
    "\n",
    "    \n",
    "    \n",
    "    ###########################IMPORTANT ##################################################\n",
    "    def DiagonalScaleCost(self, a):\n",
    "        xi = self.xi\n",
    "        yi = self.yi\n",
    "        w = self.w\n",
    "        #         inter_par= interpolateparametarization_scaled(xi,yi,a,1, lamda)\n",
    "        w = self.w # ????????\n",
    "        cost = np.sum(w**2) # ????  Cost =sum(w.^2);\n",
    "        return cost\n",
    "    def DiagonalScaleCost_der( self, a):\n",
    "        w = self.w\n",
    "        Dw = self.Dw\n",
    "        gradCost =2*Dw*w;\n",
    "        return gradCost\n",
    "\n",
    "    ###########################IMPORTANT ##################################################\n",
    "    # Scaled\n",
    "    def Scale_interpar(self):\n",
    "        #This function is for spinterpolation and finds the scaling factor for\n",
    "        #polyharmonic spline interpolation\n",
    "        xi = self.xi\n",
    "        yi = self.yi\n",
    "        n = xi.shape[0]\n",
    "        a0 = np.ones((n,1))\n",
    "        \n",
    "        self.lamda =1\n",
    "        lb = np.zeros((n,1))\n",
    "        ub = np.ones((n,1))*n  #No upper or lower bounds\n",
    "        \n",
    "        res = minimize(self.DiagonalScaleCost, a0, method='L-BFGS-B', jac=self.DiagonalScaleCost_der, options={'gtol': 1e-6, 'disp': True},\n",
    "                      bounds=(lb,ub))\n",
    "        \n",
    "         \n",
    "        \n",
    "        return inter_par,res.x\n",
    "    \n",
    "    \n",
    "    \n",
    "    \n",
    "    #    def interpolateparametarization_scaled(self, xi1,yi1,a, inter_method,lamda,interpolate_index):\n",
    "    def parameterization_scaled(self,xi, yi, a, inter_method,lamda, interpolate_index):\n",
    "        w = self.w\n",
    "        n = xi.shape[0]\n",
    "        m = xi.shape[1]\n",
    "        if self.method =='NPS':\n",
    "            A= np.zeros(shape=(m,m))\n",
    "            \n",
    "            for ii in range(0,m,1): # for ii =0 to m-1 with step 1; range(1,N,1)\n",
    "                for jj in range(0,m,1):\n",
    "                    A[ii,jj] = (np.dot(xi[:,ii] - xi[:,jj],xi[:,ii] - xi[:,jj]))**(3.0/2.0)\n",
    "                    dA[ii,jj,:] =3/2.* (xi[:,ii] - xi[:,jj])**2 *  ((np.transpose(xi[:,ii]-xi[:,jj]))*H*(xi[:,ii] - xi[:,jj]))**(1/2.0)\n",
    "            \n",
    "            V = np.concatenate((np.ones((1,m)), xi), axis=0)\n",
    "            A = A + np.identity(m)*lamda\n",
    "            \n",
    "            A1 = np.concatenate((A, np.transpose(V)),axis=1)\n",
    "            A2 = np.concatenate((V, np.zeros(shape=(n+1,n+1) )), axis=1)\n",
    "            yi = yi[np.newaxis,:]\n",
    "            \n",
    "            \n",
    "            b = np.concatenate([np.transpose(yi), np.zeros(shape=(n+1,1))])\n",
    "            #  b = np.concatenate((np.transpose(yi), np.zeros(shape=(n+1,1) )), axis=0)\n",
    "            A = np.concatenate((A1,A2), axis=0)\n",
    "            wv = np.linalg.solve(A,b)\n",
    "            \n",
    "            # calculating the gradient\n",
    "            Dw = []; Dv=[]\n",
    "            #for kk in range(n):\n",
    "                #np.concatenate((dA[:,:,kk] np.zeros((V.T.shape))),axis=)\n",
    "                #np.concatenate(())\n",
    "                # b{kk} = -[dA(:,:,kk) zeros(size(V'));zeros(size(V)) zeros(n+1,n+1)]*wv; ???\n",
    "                # Dwv = np.linalg.solve(A, b{kk} )  # Dwv = pinv(A)* b{kk}; % solve the associated linear system\n",
    "                # Dw = [Dw; Dwv(1:N)']; ????\n",
    "                # Dv = [Dv; Dwv(N+1:end)']; ?????\n",
    "            self.Dw = Dw\n",
    "            self.Dv = Dv\n",
    "            self.a = a\n",
    "            self.w = wv[:m]\n",
    "            self.v = wv[m:]\n",
    "            self.xi = xi\n",
    "\n",
    "\n",
    "\n",
    "    def pred(self,x):\n",
    "        if self.method == \"NPS\":\n",
    "            w = self.w\n",
    "            v = self.v\n",
    "            xi = self.xi\n",
    "            \n",
    "            S = xi - x\n",
    "            #             print np.dot(v.T,np.concatenate([np.ones((1,1)),x],axis=0)) + np.dot(w.T,np.sqrt(np.diag(np.dot(S.T,S))))**3\n",
    "            return np.dot(v.T,np.concatenate([np.ones((1,1)),x],axis=0)) + np.dot(w.T,(np.sqrt(np.diag(np.dot(S.T,S)))**3))\n",
    "        \n",
    "        if self.method == \"MAPS\":\n",
    "            w = self.w\n",
    "            v = self.v\n",
    "            xi = self.xi\n",
    "            \n",
    "            S = xi - x\n",
    "            #             print np.dot(v.T,np.concatenate([np.ones((1,1)),x],axis=0)) + np.dot(w.T,np.sqrt(np.diag(np.dot(S.T,S))))**3\n",
    "            return np.dot(v.T,np.concatenate([np.ones((1,1)),x],axis=0)) + np.dot(w.T,(np.sqrt(np.diag(np.dot(S.T,S)))**3))\n",
    "\n",
    "    def grad(self, x):\n",
    "        if self.method == \"NPS\" or self.method==1:\n",
    "            w = self.w \n",
    "            v = self.v\n",
    "            n=x.shape[0]\n",
    "            xi = self.xi \n",
    "            N=xi.shape[1]\n",
    "            g = np.zeros((n))\n",
    "            for ii in range(N):\n",
    "                X = x[:,0]-xi[:,ii]\n",
    "                g = g + 3*w[ii]*X.T*np.linalg.norm(X)\n",
    "#                 print(\"--------------\")\n",
    "#                 print v[ii]\n",
    "#             print(g)\n",
    "#             print(\"--------------\")\n",
    "#             print(v[1:])\n",
    "            g=g+v[1:,0]\n",
    "\n",
    "            return g\n",
    "\n",
    "        if self.method == \"MAPS\" or self.method==7:\n",
    "\n",
    "            w = self.w \n",
    "            v = self.v\n",
    "            N=x.shape[1]\n",
    "            xi = self.xi \n",
    "            g = np.zeros((n, 1))\n",
    "            for ii in range(N):\n",
    "                X = x-xi[:,ii]\n",
    "                g = g + 3*w[ii]*X*np.linalg.norm(X)           \n",
    "            g=g+v[1:,0]\n",
    "            return g\n",
    "\n",
    "\n",
    "    def hessian(self,x):\n",
    "        n = x.shape[0]\n",
    "        if self.method ==\"NPS\" or self.method ==1:\n",
    "            w=self.w; \n",
    "            xi = self.xi;\n",
    "            N = xi.shape[1]\n",
    "            H = np.zeros((n,n))\n",
    "            for ii in range(N):\n",
    "                X = x[:,0]-xi[:,ii]\n",
    "                if np.linalg.norm(X) > 1e-5:\n",
    "                    H = H + 3*w[ii]*((X*X.T)/np.linalg.norm(X)  +  np.linalg.norm(X)*np.identity(n))\n",
    "            return H\n",
    "\n",
    "    def minfind(self,x, Ai=[], bi=[]):\n",
    "# %find the minimizer of the interpolating function starting with x\n",
    "# global n Ain bin        \n",
    "        n = x.shape[0]\n",
    "#         parameters of backtracking\n",
    "        rho=0.9\n",
    "    \n",
    "        itr =1\n",
    "        while itr < 10:\n",
    "            H = np.zeros((n,n)); g = np.zeros((n,1))\n",
    "            y = self.pred(x)\n",
    "            g = self.grad(x)\n",
    "            H = self.hessian(x)\n",
    "#             Perform the Hessian modification\n",
    "            H = modichol(H,0.01,20)\n",
    "            print H\n",
    "            H=(H+H.T)/2.0\n",
    "            \n",
    "            \n",
    "            \n",
    "            \n",
    "            itr = itr+1\n",
    "        \n",
    "        \n",
    "\n",
    "# while iter<10\n",
    "\n",
    "# % Calculate the Newton direction\n",
    "# H=zeros(n,n); g=zeros(n,1);\n",
    "# y=interpolate_val(x,inter_par);\n",
    "# g=interpolate_grad(x,inter_par);\n",
    "# H=interpolate_hessian(x,inter_par);\n",
    "# % Perform the Hessian modification\n",
    "# H=modichol(H,0.01,20);  \n",
    "# H=(H+H.')/2;\n",
    "# options=optimoptions('quadprog','Display','none');\n",
    "# p=quadprog(double(H),double(g),Ain,bin-Ain*x,[],[],[],[],zeros(n,1),options);\n",
    "\n",
    "# if norm(p)<1e-5\n",
    "#     break\n",
    "# end\n",
    "# a=1;\n",
    "# % Backtracking\n",
    "# while 1\n",
    "#     x1=x+a*p;\n",
    "#         y1=interpolate_val(x1,inter_par);\n",
    "#         if (y-y1)>0\n",
    "#         x=x1;\n",
    "#         break\n",
    "#         else\n",
    "#         a=a*rho;\n",
    "#         if norm(a*p)<1e-4\n",
    "#             break\n",
    "#         end\n",
    "#         end\n",
    "        \n",
    "# end\n",
    "# iter=iter+1;\n",
    "# end"
   ]
  },
  {
   "cell_type": "code",
   "execution_count": 347,
   "metadata": {
    "collapsed": false
   },
   "outputs": [
    {
     "name": "stdout",
     "output_type": "stream",
     "text": [
      "[ 0.0025025  0.1225025  0.0026225  0.0625025  0.0025625]\n",
      "[[ 0.5  0.8  0.5  0.2  0.5]\n",
      " [ 0.5  0.5  0.8  0.5  0.2]]\n",
      "(5,)\n",
      "(2, 5)\n",
      "(1, 5)\n",
      "-------H-------\n",
      "[[ 2.76550372 -0.83635214]\n",
      " [ 1.80092793  0.12822364]]\n",
      "-------g-------\n",
      "[ 0.1         0.00659159]\n",
      "-------minfind-------\n",
      "[[ 2.76550372  1.80092793]\n",
      " [ 1.80092793  2.21734645]]\n",
      "[[ 2.76550372  1.80092793]\n",
      " [ 1.80092793  2.21734645]]\n",
      "[[ 2.76550372  1.80092793]\n",
      " [ 1.80092793  2.21734645]]\n",
      "[[ 2.76550372  1.80092793]\n",
      " [ 1.80092793  2.21734645]]\n",
      "[[ 2.76550372  1.80092793]\n",
      " [ 1.80092793  2.21734645]]\n",
      "[[ 2.76550372  1.80092793]\n",
      " [ 1.80092793  2.21734645]]\n",
      "[[ 2.76550372  1.80092793]\n",
      " [ 1.80092793  2.21734645]]\n",
      "[[ 2.76550372  1.80092793]\n",
      " [ 1.80092793  2.21734645]]\n",
      "[[ 2.76550372  1.80092793]\n",
      " [ 1.80092793  2.21734645]]\n"
     ]
    }
   ],
   "source": [
    "def fun(x,  alpha=0.001):\n",
    "    y = np.array((x[0,:]-0.45)**2.0 + alpha*(x[1,:]-0.45)**2.0)\n",
    "    return y.T\n",
    "#    return (x[0,:]-0.45)**2.0 + alpha*(x[1,:]-0.45)**2.0\n",
    "\n",
    "xi = np.array([[0.5000 , 0.8000   , 0.5000,    0.2000,    0.5000],  [0.5000,    0.5000,    0.8000,    0.5000,    0.2000]])\n",
    "#xi=np.random.rand(2,3)\n",
    "x=np.array([[0.5],[0.53]])\n",
    "#yi=np.random.rand(1,3)\n",
    "yi=fun(xi)\n",
    "print(yi)\n",
    "print(xi)\n",
    "#yi = np.array(yi)\n",
    "print(yi.shape)\n",
    "print(xi.shape)\n",
    "inter_par = Inter(\"NPS\")\n",
    "inter_par.parameterization(xi,yi)\n",
    "inter_par.pred(x)\n",
    "inter_par.w\n",
    "# inter_par.Scale_interpar()\n",
    "H = inter_par.hessian(x)\n",
    "print(\"-------H-------\")\n",
    "print(H)\n",
    "g= inter_par.grad(x)\n",
    "print(\"-------g-------\")\n",
    "print(g)\n",
    "print(\"-------minfind-------\")\n",
    "m= inter_par.minfind(x)"
   ]
  },
  {
   "cell_type": "code",
   "execution_count": 337,
   "metadata": {
    "collapsed": false
   },
   "outputs": [
    {
     "name": "stdout",
     "output_type": "stream",
     "text": [
      "[[ 1.5756      1.4679      0.4592    ]\n",
      " [ 1.4679      8.79256422  0.7003    ]\n",
      " [ 0.4592      0.7003      0.9425    ]]\n"
     ]
    }
   ],
   "source": [
    "import numpy as np\n",
    "\n",
    "\n",
    "def modichol(A,alpha,beta):\n",
    "    n = A.shape[1] # size of A\n",
    "    L = np.identity(n)\n",
    "    #################### EXTRA ???\n",
    "    D = np.zeros((n,1))\n",
    "    c = np.zeros((n,n)) #????\n",
    "    ######################\n",
    "    D[0] = np.max(np.abs(A[0,0]),alpha)\n",
    "    c[:,0]=A[:,0]\n",
    "    L[1:n,0]=c[1:n,0]/D[0]\n",
    "    \n",
    "    for j in range(1,n-1):\n",
    "        c[j,j]=A[j,j]-(np.dot((L[j,0:j]**2).reshape(1,j), D[0:j]))[0, 0]\n",
    "        for i in range(j+1,n):\n",
    "            c[i,j]=A[i,j]-(np.dot((L[i,0:j]*L[j,0:j]).reshape(1,j), D[0:j]))[0, 0]\n",
    "        theta = np.max(c[j+1:n,j])\n",
    "        D[j]=np.array([(theta/beta)**2,np.abs(c[j,j]),alpha]).max()\n",
    "        L[j+1:n,j]=c[j+1:n,j]/D[j]\n",
    "    j=n-1;    \n",
    "    c[j,j]=A[j,j]-(np.dot((L[j,0:j]**2).reshape(1,j), D[0:j]))[0, 0]\n",
    "    D[j]=np.max(np.abs(c[j,j]),alpha) \n",
    "    return np.dot(np.dot(L, (np.diag(np.transpose(D)[0]))), L.T)\n",
    "\n",
    "A = np.array([[1.5756, 1.4679,0.4592], [1.4679, 1.5194, 0.7003], [0.4592, 0.7003,0.9425]])\n",
    "# A = np.random.rand(4,4)\n",
    "# A = A*A.T\n",
    "A1 = modichol(A,.3,0.1)\n",
    "print(A1)"
   ]
  },
  {
   "cell_type": "code",
   "execution_count": 146,
   "metadata": {
    "collapsed": false
   },
   "outputs": [
    {
     "data": {
      "text/plain": [
       "array([[-1.19029641],\n",
       "       [ 1.00175565],\n",
       "       [-0.40660744],\n",
       "       [ 1.00175565],\n",
       "       [-0.40660744]])"
      ]
     },
     "execution_count": 146,
     "metadata": {},
     "output_type": "execute_result"
    }
   ],
   "source": [
    "inter_par.w"
   ]
  },
  {
   "cell_type": "code",
   "execution_count": 128,
   "metadata": {
    "collapsed": false
   },
   "outputs": [
    {
     "name": "stdout",
     "output_type": "stream",
     "text": [
      "[[ 0.11382108]]\n"
     ]
    }
   ],
   "source": [
    "d=0.01;\n",
    "dm=0\n",
    "x1=np.copy(x); x1[dm]=x[dm]+d;\n",
    "gg = (inter_par.pred(x1)-inter_par.pred(x))/d\n",
    "# print(x1)\n",
    "# print(x)\n",
    "print(gg)"
   ]
  },
  {
   "cell_type": "code",
   "execution_count": 298,
   "metadata": {
    "collapsed": false
   },
   "outputs": [
    {
     "name": "stdout",
     "output_type": "stream",
     "text": [
      "[[ 0.6443  0.8116  0.3507]\n",
      " [ 0.3786  0.5328  0.939 ]]\n",
      "[ 0.10114659]\n",
      "[[ 0.52666824]\n",
      " [ 0.67408157]]\n"
     ]
    }
   ],
   "source": [
    "import numpy as np\n",
    "\n",
    "def circhyp(x,N):\n",
    "\n",
    "\n",
    "# M = [sum(x.'.^2,2), x.', ones(N+1,1)]\n",
    "# a = det(M(:,2:N+2))\n",
    "# c = (-1) ^ (N+1) * det(M(:,1:N+1))\n",
    "# D = zeros(N,1)\n",
    "# for ii = 1 : 1 : N\n",
    "#     M_tmp = M;\n",
    "#     M_tmp(:,ii+1) = [];\n",
    "#     D(ii) = (-1) ^ ii * det(M_tmp);\n",
    "# end\n",
    "# xC = - D / (2 * a)\n",
    "# R2 = (sum(D.^2) - 4 * a * c) / (4 * a ^ 2)\n",
    "\n",
    "    test = np.sum(np.transpose(x)**2,axis=1)\n",
    "    test = test[:, np.newaxis]\n",
    "#     print test\n",
    "    m1 = np.concatenate(( np.matrix((x.T**2).sum(axis=1)), x))\n",
    "#     print m1.T\n",
    "#     print(np.concatenate((m1,   np.matrix(np.ones((N+1,1)))  ), axis=1))\n",
    "    M = np.concatenate(( np.transpose(m1),   np.matrix(np.ones((N+1,1)))  ), axis=1)\n",
    "#     M = np.concatenate(( m1,   np.matrix(np.ones((N+1,1)))  ), axis=1)\n",
    "    a = np.linalg.det(M[ :,1:N+2 ]  )\n",
    "#     print M\n",
    "    c = (-1.0) ** (N+1) * np.linalg.det(M[:,0:N+1])\n",
    "    D = np.zeros((N, 1))\n",
    "    for ii in range(N):\n",
    "        M_tmp = np.copy(M)\n",
    "        M_tmp = np.delete(M_tmp, ii+1, 1)\n",
    "#         print M_tmp\n",
    "        D[ii] = ((-1.0) ** (ii+1)) * np.linalg.det(M_tmp)\n",
    "        #print(np.linalg.det(M_tmp))\n",
    "#     print(D)\n",
    "    xC = -D / (2.0 * a)\n",
    "# print(xC)\n",
    "    R2 = (np.sum(D**2,axis=0) - 4 * a * c) / (4.0 * a ** 2)\n",
    "    return R2, xC\n",
    "\n",
    "# x = np.array([[0.5000 , 0.8000   , 0.5000,    0.2000,    0.5000],  [0.5000,    0.5000,    0.8000,    0.5000,    0.2000]])\n",
    "\n",
    "x = np.array([[0.6443,    0.8116,    0.3507], [0.3786,    0.5328,    0.9390]]);\n",
    "N = 2;\n",
    "print x\n",
    "[R2,xC]= circhyp(x, N)\n",
    "print(R2)\n",
    "print(xC)"
   ]
  },
  {
   "cell_type": "code",
   "execution_count": 312,
   "metadata": {
    "collapsed": false
   },
   "outputs": [
    {
     "name": "stdout",
     "output_type": "stream",
     "text": [
      "-------!!!e global !!---\n",
      "0.0281\n"
     ]
    }
   ],
   "source": [
    "from scipy.spatial import Delaunay\n",
    "def direc_uncer(x,xi,tri):\n",
    "    e=np.array([[0.0]]);\n",
    "    n = x.shape[0]\n",
    "#     print(n)\n",
    "    for ind in range(tri.simplices.shape[0]):\n",
    "        [R2,xC] = circhyp(xi[:,tri.simplices[ind,:]],n)\n",
    "        e = np.array([e,(R2- np.dot(np.transpose((x-xC)), x-xC)) ]).max()\n",
    "#         print \"-------!!!2!!---\"\n",
    "#         print e\n",
    "    return e\n",
    "\n",
    "xi = np.array([[0.5000 , 0.8000   , 0.5000,    0.2000,    0.5000],  [0.5000,    0.5000,    0.8000,    0.5000,    0.2000]])\n",
    "\n",
    "# x = np.array([[0.6443,    0.8116,    0.3507], [0.3786,    0.5328,    0.9390]]);\n",
    "N = 2;\n",
    "\n",
    "# [R2,xC] = circhyp(xi, N)\n",
    "tri = Delaunay(xi.T)\n",
    "xx = np.array([[0.4], [0.53]]);\n",
    "e = direc_uncer(xx,xi,tri)\n",
    "print \"-------!!!e global !!---\"\n",
    "print e"
   ]
  },
  {
   "cell_type": "code",
   "execution_count": 332,
   "metadata": {
    "collapsed": false
   },
   "outputs": [
    {
     "name": "stdout",
     "output_type": "stream",
     "text": [
      "0.03\n",
      "0\n",
      "[ 0.5  0.5]\n"
     ]
    }
   ],
   "source": [
    "def mindis(x,xi):\n",
    "# function [y,x1,index] = mindistance(x,xi)\n",
    "# % calculates the minimum distance from all the existing points\n",
    "# % xi all the previous points\n",
    "# % x the new point\n",
    "    y=float('inf')\n",
    "    N=xi.shape[1]\n",
    "    for i in range(N):\n",
    "        y1 = np.linalg.norm(x[:,0]-xi[:,i])\n",
    "        if y1<y:\n",
    "            y=np.copy(y1)\n",
    "            x1 = np.copy(xi[:,i])\n",
    "            index=np.copy(i)\n",
    "    return y,index,x1\n",
    "\n",
    "\n",
    "xi = np.array([[0.5000 , 0.8000   , 0.5000,    0.2000,    0.5000],  [0.5000,    0.5000,    0.8000,    0.5000,    0.2000]])\n",
    "xx = np.array([[0.5], [0.53]]);\n",
    "[y,index,x1] = mindis(xx,xi)\n",
    "print y\n",
    "print index\n",
    "print x1"
   ]
  },
  {
   "cell_type": "code",
   "execution_count": 320,
   "metadata": {
    "collapsed": false
   },
   "outputs": [
    {
     "data": {
      "text/plain": [
       "(array(0.14764823060233398), array([ 0.5,  0.5]), array(0))"
      ]
     },
     "execution_count": 320,
     "metadata": {},
     "output_type": "execute_result"
    }
   ],
   "source": [
    "mindis(xx,xi)"
   ]
  },
  {
   "cell_type": "code",
   "execution_count": 361,
   "metadata": {
    "collapsed": false
   },
   "outputs": [],
   "source": [
    "fun = lambda x: inter_par.pred(x)"
   ]
  },
  {
   "cell_type": "code",
   "execution_count": 381,
   "metadata": {
    "collapsed": false
   },
   "outputs": [
    {
     "ename": "ValueError",
     "evalue": "operands could not be broadcast together with shapes (2,5) (2,) ",
     "traceback": [
      "\u001b[0;31m---------------------------------------------------------------------------\u001b[0m",
      "\u001b[0;31mValueError\u001b[0m                                Traceback (most recent call last)",
      "\u001b[0;32m<ipython-input-381-1aacf5cc2f18>\u001b[0m in \u001b[0;36m<module>\u001b[0;34m()\u001b[0m\n\u001b[1;32m      6\u001b[0m \u001b[0;31m# res.x\u001b[0m\u001b[0;34m\u001b[0m\u001b[0;34m\u001b[0m\u001b[0m\n\u001b[1;32m      7\u001b[0m res = minimize(fun, x0, method='BFGS', jac=rosen_der,\n\u001b[0;32m----> 8\u001b[0;31m                options={'gtol': 1e-6, 'disp': True})\n\u001b[0m",
      "\u001b[0;32m/Users/shahrouz/anaconda3/envs/py27/lib/python2.7/site-packages/scipy/optimize/_minimize.pyc\u001b[0m in \u001b[0;36mminimize\u001b[0;34m(fun, x0, args, method, jac, hess, hessp, bounds, constraints, tol, callback, options)\u001b[0m\n\u001b[1;32m    442\u001b[0m         \u001b[0;32mreturn\u001b[0m \u001b[0m_minimize_cg\u001b[0m\u001b[0;34m(\u001b[0m\u001b[0mfun\u001b[0m\u001b[0;34m,\u001b[0m \u001b[0mx0\u001b[0m\u001b[0;34m,\u001b[0m \u001b[0margs\u001b[0m\u001b[0;34m,\u001b[0m \u001b[0mjac\u001b[0m\u001b[0;34m,\u001b[0m \u001b[0mcallback\u001b[0m\u001b[0;34m,\u001b[0m \u001b[0;34m**\u001b[0m\u001b[0moptions\u001b[0m\u001b[0;34m)\u001b[0m\u001b[0;34m\u001b[0m\u001b[0m\n\u001b[1;32m    443\u001b[0m     \u001b[0;32melif\u001b[0m \u001b[0mmeth\u001b[0m \u001b[0;34m==\u001b[0m \u001b[0;34m'bfgs'\u001b[0m\u001b[0;34m:\u001b[0m\u001b[0;34m\u001b[0m\u001b[0m\n\u001b[0;32m--> 444\u001b[0;31m         \u001b[0;32mreturn\u001b[0m \u001b[0m_minimize_bfgs\u001b[0m\u001b[0;34m(\u001b[0m\u001b[0mfun\u001b[0m\u001b[0;34m,\u001b[0m \u001b[0mx0\u001b[0m\u001b[0;34m,\u001b[0m \u001b[0margs\u001b[0m\u001b[0;34m,\u001b[0m \u001b[0mjac\u001b[0m\u001b[0;34m,\u001b[0m \u001b[0mcallback\u001b[0m\u001b[0;34m,\u001b[0m \u001b[0;34m**\u001b[0m\u001b[0moptions\u001b[0m\u001b[0;34m)\u001b[0m\u001b[0;34m\u001b[0m\u001b[0m\n\u001b[0m\u001b[1;32m    445\u001b[0m     \u001b[0;32melif\u001b[0m \u001b[0mmeth\u001b[0m \u001b[0;34m==\u001b[0m \u001b[0;34m'newton-cg'\u001b[0m\u001b[0;34m:\u001b[0m\u001b[0;34m\u001b[0m\u001b[0m\n\u001b[1;32m    446\u001b[0m         return _minimize_newtoncg(fun, x0, args, jac, hess, hessp, callback,\n",
      "\u001b[0;32m/Users/shahrouz/anaconda3/envs/py27/lib/python2.7/site-packages/scipy/optimize/optimize.pyc\u001b[0m in \u001b[0;36m_minimize_bfgs\u001b[0;34m(fun, x0, args, jac, callback, gtol, norm, eps, maxiter, disp, return_all, **unknown_options)\u001b[0m\n\u001b[1;32m    918\u001b[0m \u001b[0;34m\u001b[0m\u001b[0m\n\u001b[1;32m    919\u001b[0m     \u001b[0;31m# Sets the initial step guess to dx ~ 1\u001b[0m\u001b[0;34m\u001b[0m\u001b[0;34m\u001b[0m\u001b[0m\n\u001b[0;32m--> 920\u001b[0;31m     \u001b[0mold_fval\u001b[0m \u001b[0;34m=\u001b[0m \u001b[0mf\u001b[0m\u001b[0;34m(\u001b[0m\u001b[0mx0\u001b[0m\u001b[0;34m)\u001b[0m\u001b[0;34m\u001b[0m\u001b[0m\n\u001b[0m\u001b[1;32m    921\u001b[0m     \u001b[0mold_old_fval\u001b[0m \u001b[0;34m=\u001b[0m \u001b[0mold_fval\u001b[0m \u001b[0;34m+\u001b[0m \u001b[0mnp\u001b[0m\u001b[0;34m.\u001b[0m\u001b[0mlinalg\u001b[0m\u001b[0;34m.\u001b[0m\u001b[0mnorm\u001b[0m\u001b[0;34m(\u001b[0m\u001b[0mgfk\u001b[0m\u001b[0;34m)\u001b[0m \u001b[0;34m/\u001b[0m \u001b[0;36m2\u001b[0m\u001b[0;34m\u001b[0m\u001b[0m\n\u001b[1;32m    922\u001b[0m \u001b[0;34m\u001b[0m\u001b[0m\n",
      "\u001b[0;32m/Users/shahrouz/anaconda3/envs/py27/lib/python2.7/site-packages/scipy/optimize/optimize.pyc\u001b[0m in \u001b[0;36mfunction_wrapper\u001b[0;34m(*wrapper_args)\u001b[0m\n\u001b[1;32m    290\u001b[0m     \u001b[0;32mdef\u001b[0m \u001b[0mfunction_wrapper\u001b[0m\u001b[0;34m(\u001b[0m\u001b[0;34m*\u001b[0m\u001b[0mwrapper_args\u001b[0m\u001b[0;34m)\u001b[0m\u001b[0;34m:\u001b[0m\u001b[0;34m\u001b[0m\u001b[0m\n\u001b[1;32m    291\u001b[0m         \u001b[0mncalls\u001b[0m\u001b[0;34m[\u001b[0m\u001b[0;36m0\u001b[0m\u001b[0;34m]\u001b[0m \u001b[0;34m+=\u001b[0m \u001b[0;36m1\u001b[0m\u001b[0;34m\u001b[0m\u001b[0m\n\u001b[0;32m--> 292\u001b[0;31m         \u001b[0;32mreturn\u001b[0m \u001b[0mfunction\u001b[0m\u001b[0;34m(\u001b[0m\u001b[0;34m*\u001b[0m\u001b[0;34m(\u001b[0m\u001b[0mwrapper_args\u001b[0m \u001b[0;34m+\u001b[0m \u001b[0margs\u001b[0m\u001b[0;34m)\u001b[0m\u001b[0;34m)\u001b[0m\u001b[0;34m\u001b[0m\u001b[0m\n\u001b[0m\u001b[1;32m    293\u001b[0m \u001b[0;34m\u001b[0m\u001b[0m\n\u001b[1;32m    294\u001b[0m     \u001b[0;32mreturn\u001b[0m \u001b[0mncalls\u001b[0m\u001b[0;34m,\u001b[0m \u001b[0mfunction_wrapper\u001b[0m\u001b[0;34m\u001b[0m\u001b[0m\n",
      "\u001b[0;32m<ipython-input-378-d64838d6df23>\u001b[0m in \u001b[0;36m<lambda>\u001b[0;34m(x)\u001b[0m\n\u001b[0;32m----> 1\u001b[0;31m \u001b[0mfun\u001b[0m \u001b[0;34m=\u001b[0m \u001b[0;32mlambda\u001b[0m \u001b[0mx\u001b[0m\u001b[0;34m:\u001b[0m \u001b[0minterpolate_val\u001b[0m\u001b[0;34m(\u001b[0m\u001b[0mx\u001b[0m\u001b[0;34m,\u001b[0m\u001b[0minter_par\u001b[0m\u001b[0;34m)\u001b[0m\u001b[0;34m\u001b[0m\u001b[0m\n\u001b[0m",
      "\u001b[0;32m<ipython-input-373-c608a049b41b>\u001b[0m in \u001b[0;36minterpolate_val\u001b[0;34m(x, inter_par)\u001b[0m\n\u001b[1;32m      5\u001b[0m             \u001b[0mxi\u001b[0m \u001b[0;34m=\u001b[0m \u001b[0minter_par\u001b[0m\u001b[0;34m.\u001b[0m\u001b[0mxi\u001b[0m\u001b[0;34m\u001b[0m\u001b[0m\n\u001b[1;32m      6\u001b[0m \u001b[0;34m\u001b[0m\u001b[0m\n\u001b[0;32m----> 7\u001b[0;31m             \u001b[0mS\u001b[0m \u001b[0;34m=\u001b[0m \u001b[0mxi\u001b[0m \u001b[0;34m-\u001b[0m \u001b[0mx\u001b[0m\u001b[0;34m\u001b[0m\u001b[0m\n\u001b[0m\u001b[1;32m      8\u001b[0m             \u001b[0;31m#             print np.dot(v.T,np.concatenate([np.ones((1,1)),x],axis=0)) + np.dot(w.T,np.sqrt(np.diag(np.dot(S.T,S))))**3\u001b[0m\u001b[0;34m\u001b[0m\u001b[0;34m\u001b[0m\u001b[0m\n\u001b[1;32m      9\u001b[0m             \u001b[0;32mreturn\u001b[0m \u001b[0mnp\u001b[0m\u001b[0;34m.\u001b[0m\u001b[0mdot\u001b[0m\u001b[0;34m(\u001b[0m\u001b[0mv\u001b[0m\u001b[0;34m.\u001b[0m\u001b[0mT\u001b[0m\u001b[0;34m,\u001b[0m\u001b[0mnp\u001b[0m\u001b[0;34m.\u001b[0m\u001b[0mconcatenate\u001b[0m\u001b[0;34m(\u001b[0m\u001b[0;34m[\u001b[0m\u001b[0mnp\u001b[0m\u001b[0;34m.\u001b[0m\u001b[0mones\u001b[0m\u001b[0;34m(\u001b[0m\u001b[0;34m(\u001b[0m\u001b[0;36m1\u001b[0m\u001b[0;34m,\u001b[0m\u001b[0;36m1\u001b[0m\u001b[0;34m)\u001b[0m\u001b[0;34m)\u001b[0m\u001b[0;34m,\u001b[0m\u001b[0mx\u001b[0m\u001b[0;34m]\u001b[0m\u001b[0;34m,\u001b[0m\u001b[0maxis\u001b[0m\u001b[0;34m=\u001b[0m\u001b[0;36m0\u001b[0m\u001b[0;34m)\u001b[0m\u001b[0;34m)\u001b[0m \u001b[0;34m+\u001b[0m \u001b[0mnp\u001b[0m\u001b[0;34m.\u001b[0m\u001b[0mdot\u001b[0m\u001b[0;34m(\u001b[0m\u001b[0mw\u001b[0m\u001b[0;34m.\u001b[0m\u001b[0mT\u001b[0m\u001b[0;34m,\u001b[0m\u001b[0;34m(\u001b[0m\u001b[0mnp\u001b[0m\u001b[0;34m.\u001b[0m\u001b[0msqrt\u001b[0m\u001b[0;34m(\u001b[0m\u001b[0mnp\u001b[0m\u001b[0;34m.\u001b[0m\u001b[0mdiag\u001b[0m\u001b[0;34m(\u001b[0m\u001b[0mnp\u001b[0m\u001b[0;34m.\u001b[0m\u001b[0mdot\u001b[0m\u001b[0;34m(\u001b[0m\u001b[0mS\u001b[0m\u001b[0;34m.\u001b[0m\u001b[0mT\u001b[0m\u001b[0;34m,\u001b[0m\u001b[0mS\u001b[0m\u001b[0;34m)\u001b[0m\u001b[0;34m)\u001b[0m\u001b[0;34m)\u001b[0m\u001b[0;34m**\u001b[0m\u001b[0;36m3\u001b[0m\u001b[0;34m)\u001b[0m\u001b[0;34m)\u001b[0m\u001b[0;34m\u001b[0m\u001b[0m\n",
      "\u001b[0;31mValueError\u001b[0m: operands could not be broadcast together with shapes (2,5) (2,) "
     ],
     "output_type": "error"
    }
   ],
   "source": [
    "from scipy.optimize import minimize\n",
    "x0=np.copy(xx)\n",
    "# fun(x0)\n",
    "# inter_par.pred(x0)\n",
    "# res = minimize(fun, x0, method='Nelder-Mead', tol=1e-6)\n",
    "# res.x\n",
    "res = minimize(fun, x0, method='BFGS', jac=rosen_der,\n",
    "               options={'gtol': 1e-6, 'disp': True})"
   ]
  },
  {
   "cell_type": "code",
   "execution_count": 373,
   "metadata": {
    "collapsed": false
   },
   "outputs": [],
   "source": [
    "def interpolate_val(x,inter_par):\n",
    "        if inter_par.method == \"NPS\":\n",
    "            w = inter_par.w\n",
    "            v = inter_par.v\n",
    "            xi = inter_par.xi\n",
    "            \n",
    "            S = xi - x\n",
    "            #             print np.dot(v.T,np.concatenate([np.ones((1,1)),x],axis=0)) + np.dot(w.T,np.sqrt(np.diag(np.dot(S.T,S))))**3\n",
    "            return np.dot(v.T,np.concatenate([np.ones((1,1)),x],axis=0)) + np.dot(w.T,(np.sqrt(np.diag(np.dot(S.T,S)))**3))"
   ]
  },
  {
   "cell_type": "code",
   "execution_count": 374,
   "metadata": {
    "collapsed": false
   },
   "outputs": [
    {
     "data": {
      "text/plain": [
       "array([[ 0.00261677]])"
      ]
     },
     "execution_count": 374,
     "metadata": {},
     "output_type": "execute_result"
    }
   ],
   "source": [
    "interpolate_val(x0,inter_par)"
   ]
  },
  {
   "cell_type": "code",
   "execution_count": 378,
   "metadata": {
    "collapsed": false
   },
   "outputs": [],
   "source": [
    "fun = lambda x: interpolate_val(x,inter_par)"
   ]
  },
  {
   "cell_type": "code",
   "execution_count": 379,
   "metadata": {
    "collapsed": false
   },
   "outputs": [
    {
     "ename": "ValueError",
     "evalue": "operands could not be broadcast together with shapes (2,5) (2,) ",
     "traceback": [
      "\u001b[0;31m---------------------------------------------------------------------------\u001b[0m",
      "\u001b[0;31mValueError\u001b[0m                                Traceback (most recent call last)",
      "\u001b[0;32m<ipython-input-379-35ce21a84d3e>\u001b[0m in \u001b[0;36m<module>\u001b[0;34m()\u001b[0m\n\u001b[1;32m      3\u001b[0m \u001b[0;31m# fun(x0)\u001b[0m\u001b[0;34m\u001b[0m\u001b[0;34m\u001b[0m\u001b[0m\n\u001b[1;32m      4\u001b[0m \u001b[0;31m# inter_par.pred(x0)\u001b[0m\u001b[0;34m\u001b[0m\u001b[0;34m\u001b[0m\u001b[0m\n\u001b[0;32m----> 5\u001b[0;31m \u001b[0mres\u001b[0m \u001b[0;34m=\u001b[0m \u001b[0mminimize\u001b[0m\u001b[0;34m(\u001b[0m\u001b[0mfun\u001b[0m\u001b[0;34m,\u001b[0m \u001b[0mx0\u001b[0m\u001b[0;34m,\u001b[0m \u001b[0mmethod\u001b[0m\u001b[0;34m=\u001b[0m\u001b[0;34m'Nelder-Mead'\u001b[0m\u001b[0;34m,\u001b[0m \u001b[0mtol\u001b[0m\u001b[0;34m=\u001b[0m\u001b[0;36m1e-6\u001b[0m\u001b[0;34m)\u001b[0m\u001b[0;34m\u001b[0m\u001b[0m\n\u001b[0m",
      "\u001b[0;32m/Users/shahrouz/anaconda3/envs/py27/lib/python2.7/site-packages/scipy/optimize/_minimize.pyc\u001b[0m in \u001b[0;36mminimize\u001b[0;34m(fun, x0, args, method, jac, hess, hessp, bounds, constraints, tol, callback, options)\u001b[0m\n\u001b[1;32m    436\u001b[0m                       callback=callback, **options)\n\u001b[1;32m    437\u001b[0m     \u001b[0;32melif\u001b[0m \u001b[0mmeth\u001b[0m \u001b[0;34m==\u001b[0m \u001b[0;34m'nelder-mead'\u001b[0m\u001b[0;34m:\u001b[0m\u001b[0;34m\u001b[0m\u001b[0m\n\u001b[0;32m--> 438\u001b[0;31m         \u001b[0;32mreturn\u001b[0m \u001b[0m_minimize_neldermead\u001b[0m\u001b[0;34m(\u001b[0m\u001b[0mfun\u001b[0m\u001b[0;34m,\u001b[0m \u001b[0mx0\u001b[0m\u001b[0;34m,\u001b[0m \u001b[0margs\u001b[0m\u001b[0;34m,\u001b[0m \u001b[0mcallback\u001b[0m\u001b[0;34m,\u001b[0m \u001b[0;34m**\u001b[0m\u001b[0moptions\u001b[0m\u001b[0;34m)\u001b[0m\u001b[0;34m\u001b[0m\u001b[0m\n\u001b[0m\u001b[1;32m    439\u001b[0m     \u001b[0;32melif\u001b[0m \u001b[0mmeth\u001b[0m \u001b[0;34m==\u001b[0m \u001b[0;34m'powell'\u001b[0m\u001b[0;34m:\u001b[0m\u001b[0;34m\u001b[0m\u001b[0m\n\u001b[1;32m    440\u001b[0m         \u001b[0;32mreturn\u001b[0m \u001b[0m_minimize_powell\u001b[0m\u001b[0;34m(\u001b[0m\u001b[0mfun\u001b[0m\u001b[0;34m,\u001b[0m \u001b[0mx0\u001b[0m\u001b[0;34m,\u001b[0m \u001b[0margs\u001b[0m\u001b[0;34m,\u001b[0m \u001b[0mcallback\u001b[0m\u001b[0;34m,\u001b[0m \u001b[0;34m**\u001b[0m\u001b[0moptions\u001b[0m\u001b[0;34m)\u001b[0m\u001b[0;34m\u001b[0m\u001b[0m\n",
      "\u001b[0;32m/Users/shahrouz/anaconda3/envs/py27/lib/python2.7/site-packages/scipy/optimize/optimize.pyc\u001b[0m in \u001b[0;36m_minimize_neldermead\u001b[0;34m(func, x0, args, callback, maxiter, maxfev, disp, return_all, initial_simplex, xatol, fatol, **unknown_options)\u001b[0m\n\u001b[1;32m    515\u001b[0m \u001b[0;34m\u001b[0m\u001b[0m\n\u001b[1;32m    516\u001b[0m     \u001b[0;32mfor\u001b[0m \u001b[0mk\u001b[0m \u001b[0;32min\u001b[0m \u001b[0mrange\u001b[0m\u001b[0;34m(\u001b[0m\u001b[0mN\u001b[0m \u001b[0;34m+\u001b[0m \u001b[0;36m1\u001b[0m\u001b[0;34m)\u001b[0m\u001b[0;34m:\u001b[0m\u001b[0;34m\u001b[0m\u001b[0m\n\u001b[0;32m--> 517\u001b[0;31m         \u001b[0mfsim\u001b[0m\u001b[0;34m[\u001b[0m\u001b[0mk\u001b[0m\u001b[0;34m]\u001b[0m \u001b[0;34m=\u001b[0m \u001b[0mfunc\u001b[0m\u001b[0;34m(\u001b[0m\u001b[0msim\u001b[0m\u001b[0;34m[\u001b[0m\u001b[0mk\u001b[0m\u001b[0;34m]\u001b[0m\u001b[0;34m)\u001b[0m\u001b[0;34m\u001b[0m\u001b[0m\n\u001b[0m\u001b[1;32m    518\u001b[0m \u001b[0;34m\u001b[0m\u001b[0m\n\u001b[1;32m    519\u001b[0m     \u001b[0mind\u001b[0m \u001b[0;34m=\u001b[0m \u001b[0mnumpy\u001b[0m\u001b[0;34m.\u001b[0m\u001b[0margsort\u001b[0m\u001b[0;34m(\u001b[0m\u001b[0mfsim\u001b[0m\u001b[0;34m)\u001b[0m\u001b[0;34m\u001b[0m\u001b[0m\n",
      "\u001b[0;32m/Users/shahrouz/anaconda3/envs/py27/lib/python2.7/site-packages/scipy/optimize/optimize.pyc\u001b[0m in \u001b[0;36mfunction_wrapper\u001b[0;34m(*wrapper_args)\u001b[0m\n\u001b[1;32m    290\u001b[0m     \u001b[0;32mdef\u001b[0m \u001b[0mfunction_wrapper\u001b[0m\u001b[0;34m(\u001b[0m\u001b[0;34m*\u001b[0m\u001b[0mwrapper_args\u001b[0m\u001b[0;34m)\u001b[0m\u001b[0;34m:\u001b[0m\u001b[0;34m\u001b[0m\u001b[0m\n\u001b[1;32m    291\u001b[0m         \u001b[0mncalls\u001b[0m\u001b[0;34m[\u001b[0m\u001b[0;36m0\u001b[0m\u001b[0;34m]\u001b[0m \u001b[0;34m+=\u001b[0m \u001b[0;36m1\u001b[0m\u001b[0;34m\u001b[0m\u001b[0m\n\u001b[0;32m--> 292\u001b[0;31m         \u001b[0;32mreturn\u001b[0m \u001b[0mfunction\u001b[0m\u001b[0;34m(\u001b[0m\u001b[0;34m*\u001b[0m\u001b[0;34m(\u001b[0m\u001b[0mwrapper_args\u001b[0m \u001b[0;34m+\u001b[0m \u001b[0margs\u001b[0m\u001b[0;34m)\u001b[0m\u001b[0;34m)\u001b[0m\u001b[0;34m\u001b[0m\u001b[0m\n\u001b[0m\u001b[1;32m    293\u001b[0m \u001b[0;34m\u001b[0m\u001b[0m\n\u001b[1;32m    294\u001b[0m     \u001b[0;32mreturn\u001b[0m \u001b[0mncalls\u001b[0m\u001b[0;34m,\u001b[0m \u001b[0mfunction_wrapper\u001b[0m\u001b[0;34m\u001b[0m\u001b[0m\n",
      "\u001b[0;32m<ipython-input-378-d64838d6df23>\u001b[0m in \u001b[0;36m<lambda>\u001b[0;34m(x)\u001b[0m\n\u001b[0;32m----> 1\u001b[0;31m \u001b[0mfun\u001b[0m \u001b[0;34m=\u001b[0m \u001b[0;32mlambda\u001b[0m \u001b[0mx\u001b[0m\u001b[0;34m:\u001b[0m \u001b[0minterpolate_val\u001b[0m\u001b[0;34m(\u001b[0m\u001b[0mx\u001b[0m\u001b[0;34m,\u001b[0m\u001b[0minter_par\u001b[0m\u001b[0;34m)\u001b[0m\u001b[0;34m\u001b[0m\u001b[0m\n\u001b[0m",
      "\u001b[0;32m<ipython-input-373-c608a049b41b>\u001b[0m in \u001b[0;36minterpolate_val\u001b[0;34m(x, inter_par)\u001b[0m\n\u001b[1;32m      5\u001b[0m             \u001b[0mxi\u001b[0m \u001b[0;34m=\u001b[0m \u001b[0minter_par\u001b[0m\u001b[0;34m.\u001b[0m\u001b[0mxi\u001b[0m\u001b[0;34m\u001b[0m\u001b[0m\n\u001b[1;32m      6\u001b[0m \u001b[0;34m\u001b[0m\u001b[0m\n\u001b[0;32m----> 7\u001b[0;31m             \u001b[0mS\u001b[0m \u001b[0;34m=\u001b[0m \u001b[0mxi\u001b[0m \u001b[0;34m-\u001b[0m \u001b[0mx\u001b[0m\u001b[0;34m\u001b[0m\u001b[0m\n\u001b[0m\u001b[1;32m      8\u001b[0m             \u001b[0;31m#             print np.dot(v.T,np.concatenate([np.ones((1,1)),x],axis=0)) + np.dot(w.T,np.sqrt(np.diag(np.dot(S.T,S))))**3\u001b[0m\u001b[0;34m\u001b[0m\u001b[0;34m\u001b[0m\u001b[0m\n\u001b[1;32m      9\u001b[0m             \u001b[0;32mreturn\u001b[0m \u001b[0mnp\u001b[0m\u001b[0;34m.\u001b[0m\u001b[0mdot\u001b[0m\u001b[0;34m(\u001b[0m\u001b[0mv\u001b[0m\u001b[0;34m.\u001b[0m\u001b[0mT\u001b[0m\u001b[0;34m,\u001b[0m\u001b[0mnp\u001b[0m\u001b[0;34m.\u001b[0m\u001b[0mconcatenate\u001b[0m\u001b[0;34m(\u001b[0m\u001b[0;34m[\u001b[0m\u001b[0mnp\u001b[0m\u001b[0;34m.\u001b[0m\u001b[0mones\u001b[0m\u001b[0;34m(\u001b[0m\u001b[0;34m(\u001b[0m\u001b[0;36m1\u001b[0m\u001b[0;34m,\u001b[0m\u001b[0;36m1\u001b[0m\u001b[0;34m)\u001b[0m\u001b[0;34m)\u001b[0m\u001b[0;34m,\u001b[0m\u001b[0mx\u001b[0m\u001b[0;34m]\u001b[0m\u001b[0;34m,\u001b[0m\u001b[0maxis\u001b[0m\u001b[0;34m=\u001b[0m\u001b[0;36m0\u001b[0m\u001b[0;34m)\u001b[0m\u001b[0;34m)\u001b[0m \u001b[0;34m+\u001b[0m \u001b[0mnp\u001b[0m\u001b[0;34m.\u001b[0m\u001b[0mdot\u001b[0m\u001b[0;34m(\u001b[0m\u001b[0mw\u001b[0m\u001b[0;34m.\u001b[0m\u001b[0mT\u001b[0m\u001b[0;34m,\u001b[0m\u001b[0;34m(\u001b[0m\u001b[0mnp\u001b[0m\u001b[0;34m.\u001b[0m\u001b[0msqrt\u001b[0m\u001b[0;34m(\u001b[0m\u001b[0mnp\u001b[0m\u001b[0;34m.\u001b[0m\u001b[0mdiag\u001b[0m\u001b[0;34m(\u001b[0m\u001b[0mnp\u001b[0m\u001b[0;34m.\u001b[0m\u001b[0mdot\u001b[0m\u001b[0;34m(\u001b[0m\u001b[0mS\u001b[0m\u001b[0;34m.\u001b[0m\u001b[0mT\u001b[0m\u001b[0;34m,\u001b[0m\u001b[0mS\u001b[0m\u001b[0;34m)\u001b[0m\u001b[0;34m)\u001b[0m\u001b[0;34m)\u001b[0m\u001b[0;34m**\u001b[0m\u001b[0;36m3\u001b[0m\u001b[0;34m)\u001b[0m\u001b[0;34m)\u001b[0m\u001b[0;34m\u001b[0m\u001b[0m\n",
      "\u001b[0;31mValueError\u001b[0m: operands could not be broadcast together with shapes (2,5) (2,) "
     ],
     "output_type": "error"
    }
   ],
   "source": [
    "from scipy.optimize import minimize\n",
    "x0=np.copy(xx)\n",
    "# fun(x0)\n",
    "# inter_par.pred(x0)\n",
    "res = minimize(fun, x0, method='Nelder-Mead', tol=1e-6)"
   ]
  },
  {
   "cell_type": "code",
   "execution_count": 74,
   "metadata": {
    "collapsed": true
   },
   "outputs": [],
   "source": [
    "g=g+X.T*np.linalg.norm(X)"
   ]
  },
  {
   "cell_type": "code",
   "execution_count": 75,
   "metadata": {
    "collapsed": false
   },
   "outputs": [
    {
     "data": {
      "text/plain": [
       "array([-0.09044888,  0.00904489])"
      ]
     },
     "execution_count": 75,
     "metadata": {},
     "output_type": "execute_result"
    }
   ],
   "source": [
    "g"
   ]
  },
  {
   "cell_type": "code",
   "execution_count": null,
   "metadata": {
    "collapsed": true
   },
   "outputs": [],
   "source": [
    "X.T*np.linalg.norm(X)"
   ]
  }
 ],
 "metadata": {
  "kernelspec": {
   "display_name": "Python 2",
   "language": "python",
   "name": "python2"
  },
  "language_info": {
   "codemirror_mode": {
    "name": "ipython",
    "version": 2.0
   },
   "file_extension": ".py",
   "mimetype": "text/x-python",
   "name": "python",
   "nbconvert_exporter": "python",
   "pygments_lexer": "ipython2",
   "version": "2.7.12"
  }
 },
 "nbformat": 4,
 "nbformat_minor": 0
}
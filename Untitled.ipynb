{
 "cells": [
  {
   "cell_type": "code",
   "execution_count": 175,
   "metadata": {
    "collapsed": false
   },
   "outputs": [],
   "source": [
    "import numpy as np\n",
    "from scipy.optimize import minimize, rosen, rosen_der\n",
    "#from __future__ import print_function    # (at top of module)\n",
    "\n",
    "\n",
    "class Inter:\n",
    "    #    'Common base class for all variable'\n",
    "    \n",
    "    def __init__(self,inter_method, y0=0.):\n",
    "        self.method = inter_method\n",
    "        self.w = 0\n",
    "        self.v = 0\n",
    "        self.xi = 0\n",
    "        self.yi=0\n",
    "        self.lamda = 0\n",
    "        self.y0 = y0\n",
    "        self.Dw = 0\n",
    "        self.Dv = 0\n",
    "    \n",
    "    \n",
    "    def parameterization(self,xi, yi):\n",
    "        n = xi.shape[0]\n",
    "        m = xi.shape[1]\n",
    "        if self.method =='NPS': # 1\n",
    "            A= np.zeros(shape=(m,m))\n",
    "            for ii in range(0,m,1): # for ii =0 to m-1 with step 1; range(1,N,1)\n",
    "                for jj in range(0,m,1):\n",
    "                    A[ii,jj] = (np.dot(xi[:,ii] - xi[:,jj],xi[:,ii] - xi[:,jj]))**(3.0/2.0)\n",
    "            \n",
    "            V = np.concatenate((np.ones((1,m)), xi), axis=0)\n",
    "            A1 = np.concatenate((A, np.transpose(V)),axis=1)\n",
    "            A2 = np.concatenate((V, np.zeros(shape=(n+1,n+1) )), axis=1)\n",
    "            yi = yi[np.newaxis,:]\n",
    "            \n",
    "            print(yi.shape)\n",
    "            b = np.concatenate([np.transpose(yi), np.zeros(shape=(n+1,1))])\n",
    "            #      b = np.concatenate((np.transpose(yi), np.zeros(shape=(n+1,1) )), axis=0)\n",
    "            A = np.concatenate((A1,A2), axis=0)\n",
    "            wv = np.linalg.solve(A,b)\n",
    "            self.w = wv[:m]\n",
    "            self.v = wv[m:]\n",
    "            self.xi = xi\n",
    "        #      print(V)\n",
    "        #     7\n",
    "        if self.method == \"MAPS\" or self.method == \"MAPS2\":\n",
    "            a = np.ones(xi.shape[0],1)\n",
    "            lamda = 1;\n",
    "            for i in range (0,20):\n",
    "                [inter_par,a] = Scale_interpar()\n",
    "                lamda = lamda/2.0\n",
    "                for jj in range(yi.shape[0]):\n",
    "                    [inter_par,a]  = Scale_interpar(); #method2 %%% DO I NEED TO INCLUDE SELF INPUT????\n",
    "                     \n",
    "\n",
    "\n",
    "\n",
    "\n",
    "    \n",
    "    # inter_par{1}=inter_method;\n",
    "    # lambda = lambda/2;\n",
    "    #for jj=1:numel(yi)\n",
    "    # ygps(jj)= interpolate_val(xi(:,jj),inter_par); % HERE --->\n",
    "    # % equation 19 in MAPS\n",
    "    # deltaPx  = abs(ygps(jj)-yi(jj));\n",
    "    # DeltaFun = abs(yi(jj)-y0);\n",
    "    # % keyboard\n",
    "    # if deltaPx/DeltaFun > 0.1\n",
    "    # break;\n",
    "    # elseif jj==numel(yi)\n",
    "    #     return;\n",
    "    # end\n",
    "    # end\n",
    "    # if inter_method==8\n",
    "    # %      keyboard\n",
    "    # epsFun = yi-y0;\n",
    "    # inter_par{8}=epsFun;\n",
    "    # end\n",
    "    \n",
    "    \n",
    "\n",
    "    \n",
    "    \n",
    "    ###########################IMPORTANT ##################################################\n",
    "    def DiagonalScaleCost(self, a):\n",
    "        xi = self.xi\n",
    "        yi = self.yi\n",
    "        w = self.w\n",
    "        #         inter_par= interpolateparametarization_scaled(xi,yi,a,1, lamda)\n",
    "        w = self.w # ????????\n",
    "        cost = np.sum(w**2) # ????  Cost =sum(w.^2);\n",
    "        return cost\n",
    "    def DiagonalScaleCost_der( self, a):\n",
    "        w = self.w\n",
    "        Dw = self.Dw\n",
    "        gradCost =2*Dw*w;\n",
    "        return gradCost\n",
    "\n",
    "    ###########################IMPORTANT ##################################################\n",
    "    # Scaled\n",
    "    def Scale_interpar(self):\n",
    "        #This function is for spinterpolation and finds the scaling factor for\n",
    "        #polyharmonic spline interpolation\n",
    "        xi = self.xi\n",
    "        yi = self.yi\n",
    "        n = xi.shape[0]\n",
    "        a0 = np.ones((n,1))\n",
    "        \n",
    "        self.lamda =1\n",
    "        lb = np.zeros((n,1))\n",
    "        ub = np.ones((n,1))*n  #No upper or lower bounds\n",
    "        \n",
    "        res = minimize(self.DiagonalScaleCost, a0, method='L-BFGS-B', jac=self.DiagonalScaleCost_der, options={'gtol': 1e-6, 'disp': True},\n",
    "                      bounds=(lb,ub))\n",
    "        \n",
    "         \n",
    "        \n",
    "        return inter_par,res.x\n",
    "    \n",
    "    \n",
    "    \n",
    "    \n",
    "    #    def interpolateparametarization_scaled(self, xi1,yi1,a, inter_method,lamda,interpolate_index):\n",
    "    def parameterization_scaled(self,xi, yi, a, inter_method,lamda, interpolate_index):\n",
    "        w = self.w\n",
    "        n = xi.shape[0]\n",
    "        m = xi.shape[1]\n",
    "        if self.method =='NPS':\n",
    "            A= np.zeros(shape=(m,m))\n",
    "            \n",
    "            for ii in range(0,m,1): # for ii =0 to m-1 with step 1; range(1,N,1)\n",
    "                for jj in range(0,m,1):\n",
    "                    A[ii,jj] = (np.dot(xi[:,ii] - xi[:,jj],xi[:,ii] - xi[:,jj]))**(3.0/2.0)\n",
    "                    dA[ii,jj,:] =3/2.* (xi[:,ii] - xi[:,jj])**2 *  ((np.transpose(xi[:,ii]-xi[:,jj]))*H*(xi[:,ii] - xi[:,jj]))**(1/2.0)\n",
    "            \n",
    "            V = np.concatenate((np.ones((1,m)), xi), axis=0)\n",
    "            A = A + np.identity(m)*lamda\n",
    "            \n",
    "            A1 = np.concatenate((A, np.transpose(V)),axis=1)\n",
    "            A2 = np.concatenate((V, np.zeros(shape=(n+1,n+1) )), axis=1)\n",
    "            yi = yi[np.newaxis,:]\n",
    "            \n",
    "            \n",
    "            b = np.concatenate([np.transpose(yi), np.zeros(shape=(n+1,1))])\n",
    "            #  b = np.concatenate((np.transpose(yi), np.zeros(shape=(n+1,1) )), axis=0)\n",
    "            A = np.concatenate((A1,A2), axis=0)\n",
    "            wv = np.linalg.solve(A,b)\n",
    "            \n",
    "            # calculating the gradient\n",
    "            Dw = []; Dv=[]\n",
    "            #for kk in range(n):\n",
    "                #np.concatenate((dA[:,:,kk] np.zeros((V.T.shape))),axis=)\n",
    "                #np.concatenate(())\n",
    "                # b{kk} = -[dA(:,:,kk) zeros(size(V'));zeros(size(V)) zeros(n+1,n+1)]*wv; ???\n",
    "                # Dwv = np.linalg.solve(A, b{kk} )  # Dwv = pinv(A)* b{kk}; % solve the associated linear system\n",
    "                # Dw = [Dw; Dwv(1:N)']; ????\n",
    "                # Dv = [Dv; Dwv(N+1:end)']; ?????\n",
    "            self.Dw = Dw\n",
    "            self.Dv = Dv\n",
    "            self.a = a\n",
    "            self.w = wv[:m]\n",
    "            self.v = wv[m:]\n",
    "            self.xi = xi\n",
    "\n",
    "\n",
    "\n",
    "    def pred(self,x):\n",
    "        if self.method == \"NPS\":\n",
    "            w = self.w\n",
    "            v = self.v\n",
    "            xi = self.xi\n",
    "            \n",
    "            S = xi - x\n",
    "            #             print np.dot(v.T,np.concatenate([np.ones((1,1)),x],axis=0)) + np.dot(w.T,np.sqrt(np.diag(np.dot(S.T,S))))**3\n",
    "            return np.dot(v.T,np.concatenate([np.ones((1,1)),x],axis=0)) + np.dot(w.T,(np.sqrt(np.diag(np.dot(S.T,S)))**3))\n",
    "        \n",
    "        if self.method == \"MAPS\":\n",
    "            w = self.w\n",
    "            v = self.v\n",
    "            xi = self.xi\n",
    "            \n",
    "            S = xi - x\n",
    "            #             print np.dot(v.T,np.concatenate([np.ones((1,1)),x],axis=0)) + np.dot(w.T,np.sqrt(np.diag(np.dot(S.T,S))))**3\n",
    "            return np.dot(v.T,np.concatenate([np.ones((1,1)),x],axis=0)) + np.dot(w.T,(np.sqrt(np.diag(np.dot(S.T,S)))**3))\n",
    "\n",
    "    def grad(self, x):\n",
    "        if self.method == \"NPS\" or self.method==1:\n",
    "            w = self.w \n",
    "            v = self.v\n",
    "            n=x.shape[0]\n",
    "            xi = self.xi \n",
    "            N=xi.shape[1]\n",
    "            g = np.zeros((n))\n",
    "            for ii in range(N):\n",
    "                X = x[:,0]-xi[:,ii]\n",
    "                g = g + 3*w[ii]*X.T*np.linalg.norm(X)\n",
    "#                 print(\"--------------\")\n",
    "#                 print v[ii]\n",
    "#             print(g)\n",
    "#             print(\"--------------\")\n",
    "#             print(v[1:])\n",
    "            g=g+v[1:,0]\n",
    "\n",
    "            return g\n",
    "\n",
    "        if self.method == \"MAPS\" or self.method==7:\n",
    "\n",
    "            w = self.w \n",
    "            v = self.v\n",
    "            N=x.shape[1]\n",
    "            xi = self.xi \n",
    "            g = np.zeros((n, 1))\n",
    "            for ii in range(N):\n",
    "                X = x-xi[:,ii]\n",
    "                g = g + 3*w[ii]*X*np.linalg.norm(X)           \n",
    "            g=g+v[1:,0]\n",
    "            return g\n",
    "\n",
    "\n",
    "    def hessian(self,x):\n",
    "        n = x.shape[0]\n",
    "        if self.method ==\"NPS\" or self.method ==1:\n",
    "            w=self.w; \n",
    "            xi = self.xi;\n",
    "            N = xi.shape[1]\n",
    "            H = np.zeros((n,n))\n",
    "            for ii in range(N):\n",
    "                X = x[:,0]-xi[:,ii]\n",
    "                if np.linalg.norm(X) > 1e-5:\n",
    "                    H = H + 3*w[ii]*((X*X.T)/np.linalg.norm(X)  +  np.linalg.norm(X)*np.identity(n))\n",
    "            return H\n"
   ]
  },
  {
   "cell_type": "code",
   "execution_count": 177,
   "metadata": {
    "collapsed": false
   },
   "outputs": [
    {
     "name": "stdout",
     "output_type": "stream",
     "text": [
      "[ 0.0025025  0.1225025  0.0026225  0.0625025  0.0025625]\n",
      "[[ 0.5  0.8  0.5  0.2  0.5]\n",
      " [ 0.5  0.5  0.8  0.5  0.2]]\n",
      "(5,)\n",
      "(2, 5)\n",
      "(1, 5)\n",
      "-------H-------\n",
      "[[  2.63514749e+00   2.62215155e-03]\n",
      " [  2.62215155e-03   7.66277944e-01]]\n",
      "-------g-------\n",
      "[ 0.1         0.00659159]\n"
     ]
    }
   ],
   "source": [
    "def fun(x,  alpha=0.001):\n",
    "    y = np.array((x[0,:]-0.45)**2.0 + alpha*(x[1,:]-0.45)**2.0)\n",
    "    return y.T\n",
    "#    return (x[0,:]-0.45)**2.0 + alpha*(x[1,:]-0.45)**2.0\n",
    "\n",
    "xi = np.array([[0.5000 , 0.8000   , 0.5000,    0.2000,    0.5000],  [0.5000,    0.5000,    0.8000,    0.5000,    0.2000]])\n",
    "#xi=np.random.rand(2,3)\n",
    "x=np.array([[0.5],[0.53]])\n",
    "#yi=np.random.rand(1,3)\n",
    "yi=fun(xi)\n",
    "print(yi)\n",
    "print(xi)\n",
    "#yi = np.array(yi)\n",
    "print(yi.shape)\n",
    "print(xi.shape)\n",
    "inter_par = Inter(\"NPS\")\n",
    "inter_par.parameterization(xi,yi)\n",
    "inter_par.pred(x)\n",
    "inter_par.w\n",
    "# inter_par.Scale_interpar()\n",
    "H = inter_par.hessian(x)\n",
    "print(\"-------H-------\")\n",
    "print(H)\n",
    "g= inter_par.grad(x)\n",
    "print(\"-------g-------\")\n",
    "print(g)"
   ]
  },
  {
   "cell_type": "code",
   "execution_count": 178,
   "metadata": {
    "collapsed": false
   },
   "outputs": [
    {
     "data": {
      "text/plain": [
       "array([ 0.1       ,  0.00659159])"
      ]
     },
     "execution_count": 178,
     "metadata": {},
     "output_type": "execute_result"
    }
   ],
   "source": [
    "inter_par.grad(x)"
   ]
  },
  {
   "cell_type": "code",
   "execution_count": 146,
   "metadata": {
    "collapsed": false
   },
   "outputs": [
    {
     "data": {
      "text/plain": [
       "array([[-1.19029641],\n",
       "       [ 1.00175565],\n",
       "       [-0.40660744],\n",
       "       [ 1.00175565],\n",
       "       [-0.40660744]])"
      ]
     },
     "execution_count": 146,
     "metadata": {},
     "output_type": "execute_result"
    }
   ],
   "source": [
    "inter_par.w"
   ]
  },
  {
   "cell_type": "code",
   "execution_count": 128,
   "metadata": {
    "collapsed": false
   },
   "outputs": [
    {
     "name": "stdout",
     "output_type": "stream",
     "text": [
      "[[ 0.11382108]]\n"
     ]
    }
   ],
   "source": [
    "d=0.01;\n",
    "dm=0\n",
    "x1=np.copy(x); x1[dm]=x[dm]+d;\n",
    "gg = (inter_par.pred(x1)-inter_par.pred(x))/d\n",
    "# print(x1)\n",
    "# print(x)\n",
    "print(gg)"
   ]
  },
  {
   "cell_type": "code",
   "execution_count": 298,
   "metadata": {
    "collapsed": false
   },
   "outputs": [
    {
     "name": "stdout",
     "output_type": "stream",
     "text": [
      "[[ 0.6443  0.8116  0.3507]\n",
      " [ 0.3786  0.5328  0.939 ]]\n",
      "[ 0.10114659]\n",
      "[[ 0.52666824]\n",
      " [ 0.67408157]]\n"
     ]
    }
   ],
   "source": [
    "import numpy as np\n",
    "\n",
    "def circhyp(x,N):\n",
    "\n",
    "\n",
    "# M = [sum(x.'.^2,2), x.', ones(N+1,1)]\n",
    "# a = det(M(:,2:N+2))\n",
    "# c = (-1) ^ (N+1) * det(M(:,1:N+1))\n",
    "# D = zeros(N,1)\n",
    "# for ii = 1 : 1 : N\n",
    "#     M_tmp = M;\n",
    "#     M_tmp(:,ii+1) = [];\n",
    "#     D(ii) = (-1) ^ ii * det(M_tmp);\n",
    "# end\n",
    "# xC = - D / (2 * a)\n",
    "# R2 = (sum(D.^2) - 4 * a * c) / (4 * a ^ 2)\n",
    "\n",
    "    test = np.sum(np.transpose(x)**2,axis=1)\n",
    "    test = test[:, np.newaxis]\n",
    "#     print test\n",
    "    m1 = np.concatenate(( np.matrix((x.T**2).sum(axis=1)), x))\n",
    "#     print m1.T\n",
    "#     print(np.concatenate((m1,   np.matrix(np.ones((N+1,1)))  ), axis=1))\n",
    "    M = np.concatenate(( np.transpose(m1),   np.matrix(np.ones((N+1,1)))  ), axis=1)\n",
    "#     M = np.concatenate(( m1,   np.matrix(np.ones((N+1,1)))  ), axis=1)\n",
    "    a = np.linalg.det(M[ :,1:N+2 ]  )\n",
    "#     print M\n",
    "    c = (-1.0) ** (N+1) * np.linalg.det(M[:,0:N+1])\n",
    "    D = np.zeros((N, 1))\n",
    "    for ii in range(N):\n",
    "        M_tmp = np.copy(M)\n",
    "        M_tmp = np.delete(M_tmp, ii+1, 1)\n",
    "#         print M_tmp\n",
    "        D[ii] = ((-1.0) ** (ii+1)) * np.linalg.det(M_tmp)\n",
    "        #print(np.linalg.det(M_tmp))\n",
    "#     print(D)\n",
    "    xC = -D / (2.0 * a)\n",
    "# print(xC)\n",
    "    R2 = (np.sum(D**2,axis=0) - 4 * a * c) / (4.0 * a ** 2)\n",
    "    return R2, xC\n",
    "\n",
    "# x = np.array([[0.5000 , 0.8000   , 0.5000,    0.2000,    0.5000],  [0.5000,    0.5000,    0.8000,    0.5000,    0.2000]])\n",
    "\n",
    "x = np.array([[0.6443,    0.8116,    0.3507], [0.3786,    0.5328,    0.9390]]);\n",
    "N = 2;\n",
    "print x\n",
    "[R2,xC]= circhyp(x, N)\n",
    "print(R2)\n",
    "print(xC)"
   ]
  },
  {
   "cell_type": "code",
   "execution_count": 312,
   "metadata": {
    "collapsed": false
   },
   "outputs": [
    {
     "name": "stdout",
     "output_type": "stream",
     "text": [
      "-------!!!e global !!---\n",
      "0.0281\n"
     ]
    }
   ],
   "source": [
    "from scipy.spatial import Delaunay\n",
    "def direc_uncer(x,xi,tri):\n",
    "    e=np.array([[0.0]]);\n",
    "    n = x.shape[0]\n",
    "#     print(n)\n",
    "    for ind in range(tri.simplices.shape[0]):\n",
    "        [R2,xC] = circhyp(xi[:,tri.simplices[ind,:]],n)\n",
    "        e = np.array([e,(R2- np.dot(np.transpose((x-xC)), x-xC)) ]).max()\n",
    "#         print \"-------!!!2!!---\"\n",
    "#         print e\n",
    "    return e\n",
    "\n",
    "xi = np.array([[0.5000 , 0.8000   , 0.5000,    0.2000,    0.5000],  [0.5000,    0.5000,    0.8000,    0.5000,    0.2000]])\n",
    "\n",
    "# x = np.array([[0.6443,    0.8116,    0.3507], [0.3786,    0.5328,    0.9390]]);\n",
    "N = 2;\n",
    "\n",
    "# [R2,xC] = circhyp(xi, N)\n",
    "tri = Delaunay(xi.T)\n",
    "xx = np.array([[0.4], [0.53]]);\n",
    "e = direc_uncer(xx,xi,tri)\n",
    "print \"-------!!!e global !!---\"\n",
    "print e\n",
    "    "
   ]
  },
  {
   "cell_type": "code",
   "execution_count": 332,
   "metadata": {
    "collapsed": false
   },
   "outputs": [
    {
     "name": "stdout",
     "output_type": "stream",
     "text": [
      "0.03\n",
      "0\n",
      "[ 0.5  0.5]\n"
     ]
    }
   ],
   "source": [
    "def mindis(x,xi):\n",
    "# function [y,x1,index] = mindistance(x,xi)\n",
    "# % calculates the minimum distance from all the existing points\n",
    "# % xi all the previous points\n",
    "# % x the new point\n",
    "    y=float('inf')\n",
    "    N=xi.shape[1]\n",
    "    for i in range(N):\n",
    "        y1 = np.linalg.norm(x[:,0]-xi[:,i])\n",
    "        if y1<y:\n",
    "            y=np.copy(y1)\n",
    "            x1 = np.copy(xi[:,i])\n",
    "            index=np.copy(i)\n",
    "    return y,index,x1\n",
    "\n",
    "\n",
    "xi = np.array([[0.5000 , 0.8000   , 0.5000,    0.2000,    0.5000],  [0.5000,    0.5000,    0.8000,    0.5000,    0.2000]])\n",
    "xx = np.array([[0.5], [0.53]]);\n",
    "[y,index,x1] = mindis(xx,xi)\n",
    "print y\n",
    "print index\n",
    "print x1"
   ]
  },
  {
   "cell_type": "code",
   "execution_count": 320,
   "metadata": {
    "collapsed": false
   },
   "outputs": [
    {
     "data": {
      "text/plain": [
       "(array(0.14764823060233398), array([ 0.5,  0.5]), array(0))"
      ]
     },
     "execution_count": 320,
     "metadata": {},
     "output_type": "execute_result"
    }
   ],
   "source": [
    "mindis(xx,xi)"
   ]
  },
  {
   "cell_type": "code",
   "execution_count": 323,
   "metadata": {
    "collapsed": false
   },
   "outputs": [
    {
     "data": {
      "text/plain": [
       "array([[ 0.5,  0.8,  0.5,  0.2,  0.5],\n",
       "       [ 0.5,  0.5,  0.8,  0.5,  0.2]])"
      ]
     },
     "execution_count": 323,
     "metadata": {},
     "output_type": "execute_result"
    }
   ],
   "source": [
    "xi"
   ]
  },
  {
   "cell_type": "code",
   "execution_count": 69,
   "metadata": {
    "collapsed": false
   },
   "outputs": [
    {
     "data": {
      "text/plain": [
       "0.30149626863362672"
      ]
     },
     "execution_count": 69,
     "metadata": {},
     "output_type": "execute_result"
    }
   ],
   "source": []
  },
  {
   "cell_type": "code",
   "execution_count": 70,
   "metadata": {
    "collapsed": false
   },
   "outputs": [
    {
     "data": {
      "text/plain": [
       "array([-0.09044888,  0.00904489])"
      ]
     },
     "execution_count": 70,
     "metadata": {},
     "output_type": "execute_result"
    }
   ],
   "source": []
  },
  {
   "cell_type": "code",
   "execution_count": 71,
   "metadata": {
    "collapsed": true
   },
   "outputs": [],
   "source": [
    "g = np.zeros((n))"
   ]
  },
  {
   "cell_type": "code",
   "execution_count": 72,
   "metadata": {
    "collapsed": false
   },
   "outputs": [
    {
     "data": {
      "text/plain": [
       "array([ 0.,  0.])"
      ]
     },
     "execution_count": 72,
     "metadata": {},
     "output_type": "execute_result"
    }
   ],
   "source": [
    "g"
   ]
  },
  {
   "cell_type": "code",
   "execution_count": 73,
   "metadata": {
    "collapsed": true
   },
   "outputs": [],
   "source": [
    "g=g"
   ]
  },
  {
   "cell_type": "code",
   "execution_count": 74,
   "metadata": {
    "collapsed": true
   },
   "outputs": [],
   "source": [
    "g=g+X.T*np.linalg.norm(X)"
   ]
  },
  {
   "cell_type": "code",
   "execution_count": 75,
   "metadata": {
    "collapsed": false
   },
   "outputs": [
    {
     "data": {
      "text/plain": [
       "array([-0.09044888,  0.00904489])"
      ]
     },
     "execution_count": 75,
     "metadata": {},
     "output_type": "execute_result"
    }
   ],
   "source": [
    "g"
   ]
  },
  {
   "cell_type": "code",
   "execution_count": null,
   "metadata": {
    "collapsed": true
   },
   "outputs": [],
   "source": [
    "X.T*np.linalg.norm(X)"
   ]
  }
 ],
 "metadata": {
  "kernelspec": {
   "display_name": "Python 2",
   "language": "python",
   "name": "python2"
  },
  "language_info": {
   "codemirror_mode": {
    "name": "ipython",
    "version": 2
   },
   "file_extension": ".py",
   "mimetype": "text/x-python",
   "name": "python",
   "nbconvert_exporter": "python",
   "pygments_lexer": "ipython2",
   "version": "2.7.12"
  }
 },
 "nbformat": 4,
 "nbformat_minor": 0
}
